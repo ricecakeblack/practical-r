{
  "nbformat": 4,
  "nbformat_minor": 0,
  "metadata": {
    "colab": {
      "provenance": [],
      "include_colab_link": true
    },
    "kernelspec": {
      "name": "python3",
      "display_name": "Python 3"
    },
    "language_info": {
      "name": "python"
    }
  },
  "cells": [
    {
      "cell_type": "markdown",
      "metadata": {
        "id": "view-in-github",
        "colab_type": "text"
      },
      "source": [
        "<a href=\"https://colab.research.google.com/github/ricecakeblack/practical-r/blob/main/10_Tensorflow_LowLevel_start.ipynb\" target=\"_parent\"><img src=\"https://colab.research.google.com/assets/colab-badge.svg\" alt=\"Open In Colab\"/></a>"
      ]
    },
    {
      "cell_type": "code",
      "metadata": {
        "id": "BbBmh17NYY_5"
      },
      "source": [
        "import tensorflow as tf\n",
        "import numpy as np"
      ],
      "execution_count": null,
      "outputs": []
    },
    {
      "cell_type": "markdown",
      "metadata": {
        "id": "qlSGyJwcRUDI"
      },
      "source": [
        "#### 아래 내용은 Tensorflow의 Low-Level API를 활용하기 위해 필요한 기본 내용입니다."
      ]
    },
    {
      "cell_type": "markdown",
      "metadata": {
        "id": "Nm-PpUOjkfya"
      },
      "source": [
        "# **Tensor**\n",
        "\n",
        "Tensor는 multi-dimensional array를 의미한다. TensorFlow의 기본 data type이다."
      ]
    },
    {
      "cell_type": "markdown",
      "metadata": {
        "id": "26EXzbKMlFaz"
      },
      "source": [
        "## **constant**\n",
        "변하지 않는 숫자를 저장하는데 사용하는 텐서이다."
      ]
    },
    {
      "cell_type": "code",
      "metadata": {
        "colab": {
          "base_uri": "https://localhost:8080/"
        },
        "id": "gdTQ7M2_IEnD",
        "outputId": "fee77e59-f62d-491d-c36f-fa5cba415d67"
      },
      "source": [
        "# feature vector [1,2]를 tensorflow의 실수형 constant로 선언\n",
        "feature = tf.constant([1,2], dtype=tf.float32)\n",
        "print(feature)"
      ],
      "execution_count": null,
      "outputs": [
        {
          "output_type": "stream",
          "name": "stdout",
          "text": [
            "tf.Tensor([1. 2.], shape=(2,), dtype=float32)\n"
          ]
        }
      ]
    },
    {
      "cell_type": "code",
      "metadata": {
        "colab": {
          "base_uri": "https://localhost:8080/"
        },
        "id": "RLLn7CcqRwM6",
        "outputId": "ad2e0888-07f5-4819-b0b2-364d6aa2460a"
      },
      "source": [
        "x = tf.constant([[1.0, 2.0],\n",
        "                 [3.0, 4.0]])\n",
        "print(x)\n",
        "print(type(x))"
      ],
      "execution_count": null,
      "outputs": [
        {
          "output_type": "stream",
          "name": "stdout",
          "text": [
            "tf.Tensor(\n",
            "[[1. 2.]\n",
            " [3. 4.]], shape=(2, 2), dtype=float32)\n",
            "<class 'tensorflow.python.framework.ops.EagerTensor'>\n"
          ]
        }
      ]
    },
    {
      "cell_type": "code",
      "metadata": {
        "colab": {
          "base_uri": "https://localhost:8080/"
        },
        "id": "ifSyJgIuScaO",
        "outputId": "c4134580-c149-44bd-fcb0-dcd8c2277bc5"
      },
      "source": [
        "## 아래와 같이 numpy ndarray나 python의 list도 tensor로 바꿀 수 있습니다\n",
        "x_np = np.array([[1.0, 2.0],\n",
        "                [3.0, 4.0]])\n",
        "x_list = [[1.0, 2.0],\n",
        "         [3.0, 4.0]]\n",
        "\n",
        "print(type(x_np))\n",
        "print(type(x_list))"
      ],
      "execution_count": null,
      "outputs": [
        {
          "output_type": "stream",
          "name": "stdout",
          "text": [
            "<class 'numpy.ndarray'>\n",
            "<class 'list'>\n"
          ]
        }
      ]
    },
    {
      "cell_type": "code",
      "metadata": {
        "colab": {
          "base_uri": "https://localhost:8080/"
        },
        "id": "D5_YMTndSwcu",
        "outputId": "6429f9af-c1c8-4403-e04a-7f97c0dfd2b0"
      },
      "source": [
        "# numpy array를 tensor로 변환\n",
        "x_np = tf.convert_to_tensor(x_np)\n",
        "\n",
        "# python 리스트를 tensor로 변환\n",
        "x_list = tf.convert_to_tensor(x_list)\n",
        "\n",
        "print(type(x_np))\n",
        "print(type(x_list))"
      ],
      "execution_count": null,
      "outputs": [
        {
          "output_type": "stream",
          "name": "stdout",
          "text": [
            "<class 'tensorflow.python.framework.ops.EagerTensor'>\n",
            "<class 'tensorflow.python.framework.ops.EagerTensor'>\n"
          ]
        }
      ]
    },
    {
      "cell_type": "code",
      "metadata": {
        "colab": {
          "base_uri": "https://localhost:8080/"
        },
        "id": "ROtg-dsKSyB5",
        "outputId": "880e49d5-d69c-4a50-8d81-bb1df8069e73"
      },
      "source": [
        "# 이와는 반대로 tensor를 numpy array로 바꿀 수도 있다.\n",
        "# pytorch를 따라(?)한 느낌?\n",
        "x.numpy()"
      ],
      "execution_count": null,
      "outputs": [
        {
          "output_type": "execute_result",
          "data": {
            "text/plain": [
              "array([[1., 2.],\n",
              "       [3., 4.]], dtype=float32)"
            ]
          },
          "metadata": {},
          "execution_count": 13
        }
      ]
    },
    {
      "cell_type": "code",
      "metadata": {
        "colab": {
          "base_uri": "https://localhost:8080/"
        },
        "id": "j4Oq_CwbTHM-",
        "outputId": "d03eae17-8b28-498b-c1d9-1c16b639db3c"
      },
      "source": [
        "print(type(x.numpy()))"
      ],
      "execution_count": null,
      "outputs": [
        {
          "output_type": "stream",
          "name": "stdout",
          "text": [
            "<class 'numpy.ndarray'>\n"
          ]
        }
      ]
    },
    {
      "cell_type": "code",
      "metadata": {
        "colab": {
          "base_uri": "https://localhost:8080/"
        },
        "id": "7z6K6S3PTRo8",
        "outputId": "7009a554-7855-46b6-c5c5-96966ee60ee2"
      },
      "source": [
        "# Tensor는 numpy ndarray처럼 dtype과 shape을 갖는다.\n",
        "# 텐서의 type과 shape을 확인하려면\n",
        "# \"텐서.dtype\", \"텐서.shape\"으로 가능하다.\n",
        "print('dtype:', x.dtype)\n",
        "print('shape:', x.shape)"
      ],
      "execution_count": null,
      "outputs": [
        {
          "output_type": "stream",
          "name": "stdout",
          "text": [
            "dtype: <dtype: 'float32'>\n",
            "shape: (2, 2)\n"
          ]
        }
      ]
    },
    {
      "cell_type": "code",
      "metadata": {
        "id": "8QdhFdI2TUEg",
        "colab": {
          "base_uri": "https://localhost:8080/"
        },
        "outputId": "4437c278-f98a-4253-f42c-2bc7dac1aee8"
      },
      "source": [
        "## 상수형 tensor를 생성하는 방법으로 아래와 같은 방법이 많이 사용됩니다\n",
        "print(tf.ones(shape=(2,2))*0.2)\n",
        "print(tf.zeros(shape=(2,2)))"
      ],
      "execution_count": null,
      "outputs": [
        {
          "output_type": "stream",
          "name": "stdout",
          "text": [
            "tf.Tensor(\n",
            "[[0.2 0.2]\n",
            " [0.2 0.2]], shape=(2, 2), dtype=float32)\n",
            "tf.Tensor(\n",
            "[[0. 0.]\n",
            " [0. 0.]], shape=(2, 2), dtype=float32)\n"
          ]
        }
      ]
    },
    {
      "cell_type": "code",
      "metadata": {
        "id": "IkzEvdW4VcLY",
        "colab": {
          "base_uri": "https://localhost:8080/"
        },
        "outputId": "7483877e-ee66-4a44-cf17-ebb1b3e6e772"
      },
      "source": [
        "## tensor끼리의 4칙 연산은 element-wise 연산을 기본으로 합니다\n",
        "a = tf.ones((2,2))*2\n",
        "b = tf.ones((2,2))*6\n",
        "print (a.numpy())\n",
        "print (b.numpy())"
      ],
      "execution_count": null,
      "outputs": [
        {
          "output_type": "stream",
          "name": "stdout",
          "text": [
            "[[2. 2.]\n",
            " [2. 2.]]\n",
            "[[6. 6.]\n",
            " [6. 6.]]\n"
          ]
        }
      ]
    },
    {
      "cell_type": "code",
      "metadata": {
        "id": "sx9KNT-aVeIg",
        "colab": {
          "base_uri": "https://localhost:8080/"
        },
        "outputId": "a2f1ab94-0516-47ec-a2c1-8b074425f920"
      },
      "source": [
        "## 덧셈\n",
        "print (\"덧셈\")\n",
        "print (tf.add(a, b).numpy())\n",
        "print ((a + b).numpy())"
      ],
      "execution_count": null,
      "outputs": [
        {
          "output_type": "stream",
          "name": "stdout",
          "text": [
            "덧셈\n",
            "[[8. 8.]\n",
            " [8. 8.]]\n",
            "[[8. 8.]\n",
            " [8. 8.]]\n"
          ]
        }
      ]
    },
    {
      "cell_type": "code",
      "metadata": {
        "colab": {
          "base_uri": "https://localhost:8080/"
        },
        "id": "6MpnMbDSYRZj",
        "outputId": "6daacd91-ff68-4d7d-ceca-d31041ffdd3d"
      },
      "source": [
        "## 뺄셈\n",
        "print (\"뺄셈\")\n",
        "print (tf.subtract(b, a).numpy())\n",
        "print ((b - a).numpy())"
      ],
      "execution_count": null,
      "outputs": [
        {
          "output_type": "stream",
          "name": "stdout",
          "text": [
            "뺄셈\n",
            "[[4. 4.]\n",
            " [4. 4.]]\n",
            "[[4. 4.]\n",
            " [4. 4.]]\n"
          ]
        }
      ]
    },
    {
      "cell_type": "code",
      "metadata": {
        "colab": {
          "base_uri": "https://localhost:8080/"
        },
        "id": "92gsFQ-_YT14",
        "outputId": "759e36a8-1389-4a23-e1c8-9b9e9b6cdf23"
      },
      "source": [
        "## 곱셈\n",
        "print (\"곱셈\")\n",
        "print (tf.multiply(a, b).numpy())\n",
        "print ((a * b).numpy())"
      ],
      "execution_count": null,
      "outputs": [
        {
          "output_type": "stream",
          "name": "stdout",
          "text": [
            "곱셈\n",
            "[[12. 12.]\n",
            " [12. 12.]]\n",
            "[[12. 12.]\n",
            " [12. 12.]]\n"
          ]
        }
      ]
    },
    {
      "cell_type": "code",
      "metadata": {
        "colab": {
          "base_uri": "https://localhost:8080/"
        },
        "id": "lpSNjBPrYVTm",
        "outputId": "9f5b802f-5677-4919-b9b1-fde3da9621d5"
      },
      "source": [
        "## 나눗셈\n",
        "print (\"나눗셈\")\n",
        "print (tf.divide(b, a).numpy())\n",
        "print ((b / a).numpy())"
      ],
      "execution_count": null,
      "outputs": [
        {
          "output_type": "stream",
          "name": "stdout",
          "text": [
            "나눗셈\n",
            "[[3. 3.]\n",
            " [3. 3.]]\n",
            "[[3. 3.]\n",
            " [3. 3.]]\n"
          ]
        }
      ]
    },
    {
      "cell_type": "code",
      "metadata": {
        "colab": {
          "base_uri": "https://localhost:8080/"
        },
        "id": "v9dsIh8bY40A",
        "outputId": "54c93835-5c39-48b4-87a0-5a5acc9cd658"
      },
      "source": [
        "a = tf.constant([[1,2],[3,4]])\n",
        "b = tf.constant([[5,6],[7,8]])\n",
        "print (a.numpy())\n",
        "print (b.numpy())"
      ],
      "execution_count": null,
      "outputs": [
        {
          "output_type": "stream",
          "name": "stdout",
          "text": [
            "[[1 2]\n",
            " [3 4]]\n",
            "[[5 6]\n",
            " [7 8]]\n"
          ]
        }
      ]
    },
    {
      "cell_type": "code",
      "metadata": {
        "colab": {
          "base_uri": "https://localhost:8080/"
        },
        "id": "difhRJNVYkXD",
        "outputId": "1d29f637-10b7-4940-c19b-0deb295b746a"
      },
      "source": [
        "## 행렬 곱 (matix multiplication)\n",
        "print(tf.matmul(a, b).numpy())"
      ],
      "execution_count": null,
      "outputs": [
        {
          "output_type": "stream",
          "name": "stdout",
          "text": [
            "[[19 22]\n",
            " [43 50]]\n"
          ]
        }
      ]
    },
    {
      "cell_type": "code",
      "metadata": {
        "colab": {
          "base_uri": "https://localhost:8080/"
        },
        "id": "1jvzzQdTY0ym",
        "outputId": "c239d95a-df65-4f82-cf3e-3c2fbf3c6e54"
      },
      "source": [
        "## Tensor와 numpy ndarray는 많은 경우에 자동으로 호환된다.\n",
        "ndarray = np.ones((3, 3))\n",
        "print(ndarray)"
      ],
      "execution_count": null,
      "outputs": [
        {
          "output_type": "stream",
          "name": "stdout",
          "text": [
            "[[1. 1. 1.]\n",
            " [1. 1. 1.]\n",
            " [1. 1. 1.]]\n"
          ]
        }
      ]
    },
    {
      "cell_type": "code",
      "metadata": {
        "colab": {
          "base_uri": "https://localhost:8080/"
        },
        "id": "HMBvi0-Bjjii",
        "outputId": "3b4c3589-61e0-4795-a093-61b6e8e3f09f"
      },
      "source": [
        "## Tensor연산에 입력으로 tensor가 아닌 ndarray가 입력으로 들어갈 수 있다.\n",
        "print(\"numpy array를 tensor로 자동 변환\")\n",
        "\n",
        "# 행렬 값에 10을 곱한다.(broadcast연산)\n",
        "tensor = tf.multiply(ndarray, 10)\n",
        "print(tensor)"
      ],
      "execution_count": null,
      "outputs": [
        {
          "output_type": "stream",
          "name": "stdout",
          "text": [
            "numpy array를 tensor로 자동 변환 \n",
            "tf.Tensor(\n",
            "[[10. 10. 10.]\n",
            " [10. 10. 10.]\n",
            " [10. 10. 10.]], shape=(3, 3), dtype=float64)\n"
          ]
        }
      ]
    },
    {
      "cell_type": "code",
      "metadata": {
        "colab": {
          "base_uri": "https://localhost:8080/"
        },
        "id": "bg0rTcbhjlC_",
        "outputId": "b9351e48-e2f2-40ed-e1e1-e87cb177c14f"
      },
      "source": [
        "# numpy array연산에 tensor가 입력으로 들어갈 수 있다.\n",
        "print(np.add(tensor, 2))"
      ],
      "execution_count": null,
      "outputs": [
        {
          "output_type": "stream",
          "name": "stdout",
          "text": [
            "[[12. 12. 12.]\n",
            " [12. 12. 12.]\n",
            " [12. 12. 12.]]\n"
          ]
        }
      ]
    },
    {
      "cell_type": "code",
      "metadata": {
        "colab": {
          "base_uri": "https://localhost:8080/"
        },
        "id": "YyW5jTQHj8bw",
        "outputId": "beb3ebec-4d9f-4cb0-9188-b6687a14503c"
      },
      "source": [
        "## Random한 상수형 tensor는 다음과 같이 만들 수 있습니다\n",
        "## 아래는 표준정규분포로부터 상수를 생성합니다\n",
        "\n",
        "rndConst = tf.random.normal(shape=(2,2), mean=0., stddev=1.)\n",
        "rndConst"
      ],
      "execution_count": null,
      "outputs": [
        {
          "output_type": "execute_result",
          "data": {
            "text/plain": [
              "<tf.Tensor: shape=(2, 2), dtype=float32, numpy=\n",
              "array([[ 0.5757211 , -1.0655406 ],\n",
              "       [-1.1987567 ,  0.05854351]], dtype=float32)>"
            ]
          },
          "metadata": {},
          "execution_count": 36
        }
      ]
    },
    {
      "cell_type": "markdown",
      "metadata": {
        "id": "dMs7JlX7kvpy"
      },
      "source": [
        "## **Variables(변수)**"
      ]
    },
    {
      "cell_type": "markdown",
      "metadata": {
        "id": "s34iFRmFk2U6"
      },
      "source": [
        "Variables는 변할 수 있는 값을 저장하는데 사용되는 텐서이다.\n",
        "\n",
        "우리는 대부분의 경우에 우리가 학습해야하는 가중치(weight, parameter)들을 variable로 생성합니다."
      ]
    },
    {
      "cell_type": "code",
      "metadata": {
        "colab": {
          "base_uri": "https://localhost:8080/"
        },
        "id": "uRcLGrqLkKfh",
        "outputId": "64162373-b727-4f91-80fb-b861851a4248"
      },
      "source": [
        "## 난수를 초기값으로 Variable을 생성할 수 있다.\n",
        "initial_value = tf.random.normal(shape=(2, 2))\n",
        "weight = tf.Variable(initial_value)\n",
        "print(weight)"
      ],
      "execution_count": null,
      "outputs": [
        {
          "output_type": "stream",
          "name": "stdout",
          "text": [
            "<tf.Variable 'Variable:0' shape=(2, 2) dtype=float32, numpy=\n",
            "array([[-0.10250378,  0.34411058],\n",
            "       [ 0.394882  ,  0.9743154 ]], dtype=float32)>\n"
          ]
        }
      ]
    },
    {
      "cell_type": "code",
      "metadata": {
        "colab": {
          "base_uri": "https://localhost:8080/"
        },
        "id": "z9ExAuIolTbs",
        "outputId": "6811473d-ac17-4899-b9a4-cfb6bd7fb277"
      },
      "source": [
        "## 아래와 같이 variable을 초기화해주는 initializer들을 사용할 수도 있다.\n",
        "## stddev : 표준 편차(standard deviation)\n",
        "weight = tf.Variable(tf.random_normal_initializer(stddev=1.)(shape=(2,2)))\n",
        "print(weight)"
      ],
      "execution_count": null,
      "outputs": [
        {
          "output_type": "stream",
          "name": "stdout",
          "text": [
            "<tf.Variable 'Variable:0' shape=(2, 2) dtype=float32, numpy=\n",
            "array([[-0.08961298,  1.4418817 ],\n",
            "       [ 1.558092  ,  0.26333913]], dtype=float32)>\n"
          ]
        }
      ]
    },
    {
      "cell_type": "code",
      "metadata": {
        "colab": {
          "base_uri": "https://localhost:8080/"
        },
        "id": "GpvBU_AKllDN",
        "outputId": "9b8477cc-f5e3-499b-aa19-5092d19f0a0f"
      },
      "source": [
        "## variable은 '.assign(value)', '.assign_add(increment)', 또는 '.assign_sub(decrement)'\n",
        "## 와 같은 메소드를 사용해서 Variable의 값을 갱신할 수 있다.\n",
        "\n",
        "new_value = tf.random.normal(shape=(2,2))\n",
        "print(new_value)\n",
        "weight.assign(new_value)\n",
        "print(weight)"
      ],
      "execution_count": null,
      "outputs": [
        {
          "output_type": "stream",
          "name": "stdout",
          "text": [
            "tf.Tensor(\n",
            "[[ 1.0268829 -0.4414104]\n",
            " [ 1.4484649  1.6602494]], shape=(2, 2), dtype=float32)\n",
            "<tf.Variable 'Variable:0' shape=(2, 2) dtype=float32, numpy=\n",
            "array([[ 1.0268829, -0.4414104],\n",
            "       [ 1.4484649,  1.6602494]], dtype=float32)>\n"
          ]
        }
      ]
    },
    {
      "cell_type": "code",
      "metadata": {
        "colab": {
          "base_uri": "https://localhost:8080/"
        },
        "id": "KisBXmfmmQw5",
        "outputId": "1c96796b-c7c7-4eff-bd83-f1d1895062fe"
      },
      "source": [
        "added_value = tf.ones(shape=(2,2))\n",
        "weight.assign_sub(added_value)\n",
        "print(weight)"
      ],
      "execution_count": null,
      "outputs": [
        {
          "output_type": "stream",
          "name": "stdout",
          "text": [
            "<tf.Variable 'Variable:0' shape=(2, 2) dtype=float32, numpy=\n",
            "array([[ 0.02688289, -1.4414104 ],\n",
            "       [ 0.44846487,  0.66024935]], dtype=float32)>\n"
          ]
        }
      ]
    },
    {
      "cell_type": "markdown",
      "metadata": {
        "id": "l-m-QVN7mp9L"
      },
      "source": [
        "## **Tensor Operations**"
      ]
    },
    {
      "cell_type": "markdown",
      "metadata": {
        "id": "OQUKEkRKmtsj"
      },
      "source": [
        "**Indexing, Slicing**"
      ]
    },
    {
      "cell_type": "code",
      "metadata": {
        "colab": {
          "base_uri": "https://localhost:8080/"
        },
        "id": "zGwxV54LmT5d",
        "outputId": "a54d2f35-5588-4800-897a-597143f3d1d2"
      },
      "source": [
        "x = tf.constant([[1,2,3,4], [5,6,7,8], [9,10,11,12]])\n",
        "print(x)"
      ],
      "execution_count": null,
      "outputs": [
        {
          "output_type": "stream",
          "name": "stdout",
          "text": [
            "tf.Tensor(\n",
            "[[ 1  2  3  4]\n",
            " [ 5  6  7  8]\n",
            " [ 9 10 11 12]], shape=(3, 4), dtype=int32)\n"
          ]
        }
      ]
    },
    {
      "cell_type": "code",
      "metadata": {
        "colab": {
          "base_uri": "https://localhost:8080/"
        },
        "id": "B2naUOPymxO1",
        "outputId": "aa98724f-b763-4598-bb8d-4b0dbe5426a6"
      },
      "source": [
        "## indexing - indexing을 사용하면 항상 차원이 감소합니다\n",
        "print(x[0])\n",
        "print(x[1])\n",
        "print(x[2])\n",
        "print(x[0, 1])\n",
        "print(x[1, 2])\n",
        "print(x[2, 3])"
      ],
      "execution_count": null,
      "outputs": [
        {
          "output_type": "stream",
          "name": "stdout",
          "text": [
            "tf.Tensor([1 2 3 4], shape=(4,), dtype=int32)\n",
            "tf.Tensor([5 6 7 8], shape=(4,), dtype=int32)\n",
            "tf.Tensor([ 9 10 11 12], shape=(4,), dtype=int32)\n",
            "tf.Tensor(2, shape=(), dtype=int32)\n",
            "tf.Tensor(7, shape=(), dtype=int32)\n",
            "tf.Tensor(12, shape=(), dtype=int32)\n"
          ]
        }
      ]
    },
    {
      "cell_type": "code",
      "metadata": {
        "colab": {
          "base_uri": "https://localhost:8080/"
        },
        "id": "lrAOOUMhmy_p",
        "outputId": "1cb48681-28c3-41b5-8fce-8ac4f2403f26"
      },
      "source": [
        "## slicing\n",
        "print(x[2:, 3:])\n",
        "print(x[:2, 1:3])\n",
        "print(x[1:3, 3:])"
      ],
      "execution_count": null,
      "outputs": [
        {
          "output_type": "stream",
          "name": "stdout",
          "text": [
            "tf.Tensor([[12]], shape=(1, 1), dtype=int32)\n",
            "tf.Tensor(\n",
            "[[2 3]\n",
            " [6 7]], shape=(2, 2), dtype=int32)\n",
            "tf.Tensor(\n",
            "[[ 8]\n",
            " [12]], shape=(2, 1), dtype=int32)\n"
          ]
        }
      ]
    },
    {
      "cell_type": "markdown",
      "metadata": {
        "id": "ugQw1-xOnKZl"
      },
      "source": [
        "**Reshape**"
      ]
    },
    {
      "cell_type": "code",
      "metadata": {
        "colab": {
          "base_uri": "https://localhost:8080/"
        },
        "id": "L2ccCbvGm01K",
        "outputId": "2911aed6-5d46-4548-bb43-55d4e000884a"
      },
      "source": [
        "t = tf.constant([[[0, 1, 2],\n",
        "                [3, 4, 5]],\n",
        "               [[6, 7, 8],\n",
        "                [9, 10, 11]]])\n",
        "print(t.shape)"
      ],
      "execution_count": null,
      "outputs": [
        {
          "output_type": "stream",
          "name": "stdout",
          "text": [
            "(2, 2, 3)\n"
          ]
        }
      ]
    },
    {
      "cell_type": "code",
      "metadata": {
        "colab": {
          "base_uri": "https://localhost:8080/"
        },
        "id": "zkJPBA5EnNEA",
        "outputId": "8533a924-0a49-44b3-cca6-3aae22edeb23"
      },
      "source": [
        "print(tf.reshape(t, shape=[-1, 3]))"
      ],
      "execution_count": null,
      "outputs": [
        {
          "output_type": "stream",
          "name": "stdout",
          "text": [
            "tf.Tensor(\n",
            "[[ 0  1  2]\n",
            " [ 3  4  5]\n",
            " [ 6  7  8]\n",
            " [ 9 10 11]], shape=(4, 3), dtype=int32)\n"
          ]
        }
      ]
    },
    {
      "cell_type": "code",
      "metadata": {
        "colab": {
          "base_uri": "https://localhost:8080/"
        },
        "id": "LFPzL4LDnO-5",
        "outputId": "c4e1ed23-3a9f-444b-893f-c3737040c61c"
      },
      "source": [
        "print(tf.reshape(t, shape=[-1, 1, 3]))"
      ],
      "execution_count": null,
      "outputs": [
        {
          "output_type": "stream",
          "name": "stdout",
          "text": [
            "tf.Tensor(\n",
            "[[[ 0  1  2]]\n",
            "\n",
            " [[ 3  4  5]]\n",
            "\n",
            " [[ 6  7  8]]\n",
            "\n",
            " [[ 9 10 11]]], shape=(4, 1, 3), dtype=int32)\n"
          ]
        }
      ]
    },
    {
      "cell_type": "markdown",
      "metadata": {
        "id": "e5oLb3nLnS5b"
      },
      "source": [
        "**Reduce Mean/Sum**"
      ]
    },
    {
      "cell_type": "code",
      "metadata": {
        "colab": {
          "base_uri": "https://localhost:8080/"
        },
        "id": "dTjJgkKjnQL0",
        "outputId": "d1aa9b1c-e36f-4538-cea6-5d22611fdfac"
      },
      "source": [
        "x = tf.constant([[1., 2.],\n",
        "                [3., 4.]])\n",
        "\n",
        "print(x)\n",
        "print(tf.reduce_mean(x))"
      ],
      "execution_count": null,
      "outputs": [
        {
          "output_type": "stream",
          "name": "stdout",
          "text": [
            "tf.Tensor(\n",
            "[[1. 2.]\n",
            " [3. 4.]], shape=(2, 2), dtype=float32)\n",
            "tf.Tensor(2.5, shape=(), dtype=float32)\n"
          ]
        }
      ]
    },
    {
      "cell_type": "code",
      "metadata": {
        "colab": {
          "base_uri": "https://localhost:8080/"
        },
        "id": "o92nu9sXnWXB",
        "outputId": "7774372c-6571-4c1c-bb60-139740868ba4"
      },
      "source": [
        "# 행간의 데이터를 더해서 평균을 구한다.\n",
        "print(tf.reduce_mean(x, axis=0))"
      ],
      "execution_count": null,
      "outputs": [
        {
          "output_type": "stream",
          "name": "stdout",
          "text": [
            "tf.Tensor([2. 3.], shape=(2,), dtype=float32)\n"
          ]
        }
      ]
    },
    {
      "cell_type": "code",
      "metadata": {
        "colab": {
          "base_uri": "https://localhost:8080/"
        },
        "id": "lsdbIlbJnYGa",
        "outputId": "a899247f-9b93-44d7-fffa-50b99d635b02"
      },
      "source": [
        "# 한 행의 Feature Vector의 평균을 구한다.\n",
        "print(tf.reduce_mean(x, axis=1))\n"
      ],
      "execution_count": null,
      "outputs": [
        {
          "output_type": "stream",
          "name": "stdout",
          "text": [
            "tf.Tensor([1.5 3.5], shape=(2,), dtype=float32)\n"
          ]
        }
      ]
    },
    {
      "cell_type": "code",
      "metadata": {
        "colab": {
          "base_uri": "https://localhost:8080/"
        },
        "id": "_aSUDxvDnZMd",
        "outputId": "a0edaa11-1e73-48e6-eaba-7623e65ffdef"
      },
      "source": [
        "print(tf.reduce_mean(x, axis=-1))\n"
      ],
      "execution_count": null,
      "outputs": [
        {
          "output_type": "stream",
          "name": "stdout",
          "text": [
            "tf.Tensor([1.5 3.5], shape=(2,), dtype=float32)\n"
          ]
        }
      ]
    },
    {
      "cell_type": "markdown",
      "metadata": {
        "id": "ux8_FADdpa2X"
      },
      "source": [
        "**Argmax**"
      ]
    },
    {
      "cell_type": "code",
      "metadata": {
        "colab": {
          "base_uri": "https://localhost:8080/"
        },
        "id": "17o8PvOonakZ",
        "outputId": "e3ac117c-f8db-437c-f553-99d42d4593a2"
      },
      "source": [
        "x = [[3, 4, 5],\n",
        "     [5, 4, 3]]\n",
        "print(x)\n",
        "print(tf.argmax(x, axis=0))"
      ],
      "execution_count": null,
      "outputs": [
        {
          "output_type": "stream",
          "name": "stdout",
          "text": [
            "[[3, 4, 5], [5, 4, 3]]\n",
            "tf.Tensor([1 0 0], shape=(3,), dtype=int64)\n"
          ]
        }
      ]
    },
    {
      "cell_type": "code",
      "metadata": {
        "colab": {
          "base_uri": "https://localhost:8080/"
        },
        "id": "qH5U-yFopdqC",
        "outputId": "71a6aa79-6ee0-4aaf-fa38-f9cf20c4af87"
      },
      "source": [
        "print(tf.argmax(x, axis=1))"
      ],
      "execution_count": null,
      "outputs": [
        {
          "output_type": "stream",
          "name": "stdout",
          "text": [
            "tf.Tensor([2 0], shape=(2,), dtype=int64)\n"
          ]
        }
      ]
    },
    {
      "cell_type": "code",
      "metadata": {
        "colab": {
          "base_uri": "https://localhost:8080/"
        },
        "id": "8y6oaGjMpfbG",
        "outputId": "015bb22b-8b87-46b3-d873-eb6dec996828"
      },
      "source": [
        "print(tf.argmax(x, axis=-1))"
      ],
      "execution_count": null,
      "outputs": [
        {
          "output_type": "stream",
          "name": "stdout",
          "text": [
            "tf.Tensor([2 0], shape=(2,), dtype=int64)\n"
          ]
        }
      ]
    },
    {
      "cell_type": "markdown",
      "metadata": {
        "id": "Bzbw8Z0opj7p"
      },
      "source": [
        "**One-hot Encoding**"
      ]
    },
    {
      "cell_type": "code",
      "metadata": {
        "id": "T7mJ8IdIpg6t"
      },
      "source": [
        "label = tf.constant([0, 1, 2, 0])\n",
        "onehot1 = tf.one_hot(label, depth=3)\n",
        "onehot2 = keras.utils.to_categorical(label, num_classes=3)\n",
        "\n",
        "print(onehot1, type(onehot1))\n",
        "print(onehot2, type(onehot2))"
      ],
      "execution_count": null,
      "outputs": []
    },
    {
      "cell_type": "markdown",
      "metadata": {
        "id": "i_CB8owFpq2E"
      },
      "source": [
        "**Type Casting**"
      ]
    },
    {
      "cell_type": "code",
      "metadata": {
        "colab": {
          "base_uri": "https://localhost:8080/"
        },
        "id": "CX04OejOptQs",
        "outputId": "67475d0f-1204-4922-8d03-a9624fdf5ab8"
      },
      "source": [
        "print(tf.cast([1.8, 2.2, 3.3, 4.9], tf.int32))"
      ],
      "execution_count": null,
      "outputs": [
        {
          "output_type": "stream",
          "name": "stdout",
          "text": [
            "tf.Tensor([1 2 3 4], shape=(4,), dtype=int32)\n"
          ]
        }
      ]
    },
    {
      "cell_type": "code",
      "metadata": {
        "colab": {
          "base_uri": "https://localhost:8080/"
        },
        "id": "1ZyR2SIwpuby",
        "outputId": "642b4380-91a9-45b6-a851-608df54e79b3"
      },
      "source": [
        "print(tf.cast([True, False, 1 == 1, 0 == 1], tf.int32))"
      ],
      "execution_count": null,
      "outputs": [
        {
          "output_type": "stream",
          "name": "stdout",
          "text": [
            "tf.Tensor([1 0 1 0], shape=(4,), dtype=int32)\n"
          ]
        }
      ]
    },
    {
      "cell_type": "markdown",
      "metadata": {
        "id": "1i4-0pGpp2oe"
      },
      "source": [
        "## **tf.data를 이용하여 Dataset 만들기**"
      ]
    },
    {
      "cell_type": "markdown",
      "metadata": {
        "id": "n1j4NwB5p7W7"
      },
      "source": [
        "TensorFlow를 이용하여 deep learning model을 학습할 때, input data 및 label을 공급해주기 위하여 tf.data.Dataset을 이용합니다."
      ]
    },
    {
      "cell_type": "code",
      "metadata": {
        "colab": {
          "base_uri": "https://localhost:8080/"
        },
        "id": "t3Q81sjVpypR",
        "outputId": "bcd8b210-5b8e-4579-f795-72703c0ba13a"
      },
      "source": [
        "a = np.arange(10)\n",
        "print(a)"
      ],
      "execution_count": null,
      "outputs": [
        {
          "output_type": "stream",
          "name": "stdout",
          "text": [
            "[0 1 2 3 4 5 6 7 8 9]\n"
          ]
        }
      ]
    },
    {
      "cell_type": "code",
      "metadata": {
        "colab": {
          "base_uri": "https://localhost:8080/"
        },
        "id": "ny1evQkMp-bK",
        "outputId": "7e00a6b9-8285-4f73-a771-6e1ecc080ea3"
      },
      "source": [
        "## 0에서 9까지 정수가 input data라고 가정해봅시다\n",
        "a = np.arange(10)\n",
        "print(a)\n",
        "\n",
        "## dataset은 아래와 같이 만들 수 있습니다\n",
        "ds_tensors = tf.data.Dataset.from_tensor_slices(a)\n",
        "print(ds_tensors)"
      ],
      "execution_count": null,
      "outputs": [
        {
          "output_type": "stream",
          "name": "stdout",
          "text": [
            "[0 1 2 3 4 5 6 7 8 9]\n",
            "<TensorSliceDataset shapes: (), types: tf.int64>\n"
          ]
        }
      ]
    },
    {
      "cell_type": "code",
      "metadata": {
        "colab": {
          "base_uri": "https://localhost:8080/"
        },
        "id": "kzn487EPqwud",
        "outputId": "0b7e56a4-8860-4d98-91f2-59b8751de36e"
      },
      "source": [
        "## dataset에서 앞 5개 data를 꺼내서 확인해보겠습니다\n",
        "#data = ds_tensors.take(5)\n",
        "for x in ds_tensors:\n",
        "    print (x)\n",
        "    #model(x)"
      ],
      "execution_count": null,
      "outputs": [
        {
          "output_type": "stream",
          "name": "stdout",
          "text": [
            "tf.Tensor(0, shape=(), dtype=int64)\n",
            "tf.Tensor(1, shape=(), dtype=int64)\n",
            "tf.Tensor(2, shape=(), dtype=int64)\n",
            "tf.Tensor(3, shape=(), dtype=int64)\n",
            "tf.Tensor(4, shape=(), dtype=int64)\n",
            "tf.Tensor(5, shape=(), dtype=int64)\n",
            "tf.Tensor(6, shape=(), dtype=int64)\n",
            "tf.Tensor(7, shape=(), dtype=int64)\n",
            "tf.Tensor(8, shape=(), dtype=int64)\n",
            "tf.Tensor(9, shape=(), dtype=int64)\n"
          ]
        }
      ]
    },
    {
      "cell_type": "code",
      "metadata": {
        "id": "g2N09BHoqA26"
      },
      "source": [
        "## dataset 내의 각 data에 함수를 적용하기 위해서는 아래와 같이 map을 사용합니다\n",
        "## 이는 data 전처리에 많이 사용됩니다\n",
        "## 또한 data를 섞어주는 shuffle과 batch size만큼 data를 꺼내주는 batch도 사용할 수 있습니다\n",
        "\n",
        "ds_tensors = ds_tensors.map(tf.square).shuffle(10).batch(2)"
      ],
      "execution_count": null,
      "outputs": []
    },
    {
      "cell_type": "code",
      "metadata": {
        "colab": {
          "base_uri": "https://localhost:8080/"
        },
        "id": "REEyaUsLqSof",
        "outputId": "77fdc715-1f48-458a-98b2-0f98243187a0"
      },
      "source": [
        "## 실제 data를 꺼내서 사용할 때는 아래와 같이 for문에 dataset을 넣어주면 됩니다.\n",
        "print('Elements of ds_tensors:')\n",
        "print('='*50)\n",
        "for _ in range(3):\n",
        "    for x in ds_tensors:\n",
        "        print(x)\n",
        "    print('='*50)"
      ],
      "execution_count": null,
      "outputs": [
        {
          "output_type": "stream",
          "name": "stdout",
          "text": [
            "Elements of ds_tensors:\n",
            "==================================================\n",
            "tf.Tensor([ 4 49], shape=(2,), dtype=int64)\n",
            "tf.Tensor([0 9], shape=(2,), dtype=int64)\n",
            "tf.Tensor([36 64], shape=(2,), dtype=int64)\n",
            "tf.Tensor([25 81], shape=(2,), dtype=int64)\n",
            "tf.Tensor([ 1 16], shape=(2,), dtype=int64)\n",
            "==================================================\n",
            "tf.Tensor([0 9], shape=(2,), dtype=int64)\n",
            "tf.Tensor([36 49], shape=(2,), dtype=int64)\n",
            "tf.Tensor([16 25], shape=(2,), dtype=int64)\n",
            "tf.Tensor([ 4 81], shape=(2,), dtype=int64)\n",
            "tf.Tensor([64  1], shape=(2,), dtype=int64)\n",
            "==================================================\n",
            "tf.Tensor([25  0], shape=(2,), dtype=int64)\n",
            "tf.Tensor([ 4 49], shape=(2,), dtype=int64)\n",
            "tf.Tensor([81  1], shape=(2,), dtype=int64)\n",
            "tf.Tensor([64  9], shape=(2,), dtype=int64)\n",
            "tf.Tensor([16 36], shape=(2,), dtype=int64)\n",
            "==================================================\n"
          ]
        }
      ]
    },
    {
      "cell_type": "markdown",
      "metadata": {
        "id": "XhG5POUpqY-r"
      },
      "source": [
        "## TensorFlow를 이용하여 자동미분 계산하기\n",
        "Deep learning model을 학습시키기 위해서는 gradient descent 방법을 사용하고, 이를 위해서는 gradient 즉 미분을 계산해야 합니다. (Loss 를 weight로 미분)\n",
        "\n",
        "TensorFlow에서 자동으로 미분을 계산하는 방법을 알아보겠습니다\n",
        "\n",
        "TensorFlow는 자동 미분을 위한 tf.GradientTape API를 제공합니다.\n",
        "\n",
        "tf.GradientTape는 컨텍스트(context) 안에서 실행된 모든 연산을 테이프(tape)에 \"기록\"합니다.\n",
        "\n",
        "그 다음 TensorFlow는 후진 방식 자동 미분(reverse mode differentiation)을 사용해 테이프에 \"기록된\" 연산의 그래디언트를 계산합니다."
      ]
    },
    {
      "cell_type": "code",
      "metadata": {
        "colab": {
          "base_uri": "https://localhost:8080/"
        },
        "id": "amSj_rPIqTtp",
        "outputId": "3f172b13-a3af-4d49-81b1-80d26f6fd006"
      },
      "source": [
        "## GradientTape를 열게되면, 그때부턴 tape.watch()를 통해 tensor를 확인하고,\n",
        "## 이 tensor를 입력으로써 사용하는 미분을 자동으로 계산하는것이 가능합니다.\n",
        "\n",
        "## x = 3\n",
        "x = tf.ones((1,))*3\n",
        "\n",
        "with tf.GradientTape() as t:\n",
        "    t.watch(x)\n",
        "    y = tf.square(x)\n",
        "\n",
        "# 입력 텐서 x에 대한 미분\n",
        "dy_dx = t.gradient(y, x)\n",
        "print(dy_dx)"
      ],
      "execution_count": null,
      "outputs": [
        {
          "output_type": "stream",
          "name": "stdout",
          "text": [
            "tf.Tensor([6.], shape=(1,), dtype=float32)\n"
          ]
        }
      ]
    },
    {
      "cell_type": "code",
      "metadata": {
        "colab": {
          "base_uri": "https://localhost:8080/"
        },
        "id": "wN7jrxuBqhmY",
        "outputId": "a770ee5f-6564-44e7-a4a9-4887063aca5d"
      },
      "source": [
        "## 기본적으로 Variable들은 자동으로 watch가 적용되어 있기 때문에, 수동으로 `watch`를 해 줄 필요는 없습니다.\n",
        "x = tf.Variable(x)\n",
        "\n",
        "with tf.GradientTape() as t:\n",
        "    y = tf.square(x)\n",
        "\n",
        "# 입력 텐서 x에 대한 z의 미분\n",
        "dy_dx = t.gradient(y, x)\n",
        "print(dy_dx)"
      ],
      "execution_count": null,
      "outputs": [
        {
          "output_type": "stream",
          "name": "stdout",
          "text": [
            "tf.Tensor([6.], shape=(1,), dtype=float32)\n"
          ]
        }
      ]
    },
    {
      "cell_type": "code",
      "metadata": {
        "id": "4wA9-8qCqjEf"
      },
      "source": [],
      "execution_count": null,
      "outputs": []
    }
  ]
}